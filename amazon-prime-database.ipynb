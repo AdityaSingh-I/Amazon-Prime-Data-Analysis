import pandas as pd
import numpy as np
import matplotlib.pyplot as plt
import seaborn as sns

# Load the dataset with correct delimiter
file_path = '/kaggle/input/amazon-prime-dataset/updated_amazon_prime_users.csv'  # Adjust the path if needed
df = pd.read_csv(file_path, delimiter=';')  # Specify semicolon as delimiter

# Display the first few rows
print(df.head())

# Display the column names to understand the dataset structure
print("Column Names:", df.columns.tolist())

# Basic Information
print(df.info())

# Check for missing values
print(df.isnull().sum())

# Fill missing values (if necessary)
columns_to_fill = ['Director', 'Cast', 'Country', 'Rating', 'Date Added', 'Duration']
for col in columns_to_fill:
    if col in df.columns:
        fill_value = 'Unknown' if col != 'Rating' else 'Not Rated'
        df[col] = df[col].fillna(fill_value)

# Convert 'Date Added' to datetime
if 'Date Added' in df.columns:
    df['Date Added'] = pd.to_datetime(df['Date Added'], errors='coerce')

# Extract year from 'Date Added'
if 'Date Added' in df.columns:
    df['Year Added'] = df['Date Added'].dt.year

# Visualization: Number of titles added each year
if 'Year Added' in df.columns:
    plt.figure(figsize=(12, 6))
    df['Year Added'].value_counts().sort_index().plot(kind='bar')
    plt.title('Number of Titles Added Each Year')
    plt.xlabel('Year')
    plt.ylabel('Number of Titles')
    plt.show()

# Genre Analysis
if 'Favorite Genres' in df.columns:
    genres = df['Favorite Genres'].str.split(',', expand=True).stack().str.strip().value_counts()

    plt.figure(figsize=(12, 8))
    genres.head(10).plot(kind='barh')
    plt.title('Top 10 Favorite Genres on Amazon Prime')
    plt.xlabel('Number of Titles')
    plt.ylabel('Genre')
    plt.show()

# Type distribution (Subscription Plan)
if 'Subscription Plan' in df.columns:
    plt.figure(figsize=(6, 6))
    df['Subscription Plan'].value_counts().plot(kind='pie', autopct='%1.1f%%', startangle=90, colors=sns.color_palette('pastel'))
    plt.title('Distribution of Subscription Plans')
    plt.ylabel('')
    plt.show()

# Clean and Convert Engagement Metrics
if 'Engagement Metrics' in df.columns:
    # Remove hidden characters, spaces, and non-numeric symbols
    df['Engagement Metrics'] = df['Engagement Metrics'].astype(str).str.replace(r'[^0-9.]', '', regex=True)

    # Convert to numeric, handling errors
    df['Engagement Metrics'] = pd.to_numeric(df['Engagement Metrics'], errors='coerce').fillna(0)

    # Check unique values to verify
    print("Unique Engagement Metrics Values (Post-cleaning):")
    print(df['Engagement Metrics'].unique())

    # Debugging: Display top 10 users with engagement metrics before plotting
    top_users = df.groupby('Username')['Engagement Metrics'].sum().sort_values(ascending=False).head(10)
    print("Top 10 Users by Engagement Metrics (Debug):")
    print(top_users)

    # Plot only if there are non-zero engagement metrics
    if top_users.sum() > 0:
        plt.figure(figsize=(12, 6))
        top_users.plot(kind='bar')
        plt.title('Top 10 Users by Engagement Metrics')
        plt.xlabel('Username')
        plt.ylabel('Engagement Metrics')
        plt.xticks(rotation=45)
        plt.show()
    else:
        print("No non-zero Engagement Metrics available to plot.")

# Advanced Analysis

# 1. User Segmentation
if 'Usage Frequency' in df.columns:
    plt.figure(figsize=(8, 6))
    sns.countplot(data=df, x='Usage Frequency', palette='viridis')
    plt.title('User Segmentation Based on Usage Frequency')
    plt.xlabel('Usage Frequency')
    plt.ylabel('Number of Users')
    plt.show()

# 2. Churn Analysis
if 'Renewal Status' in df.columns:
    churn_rate = df['Renewal Status'].value_counts(normalize=True) * 100
    plt.figure(figsize=(6, 6))
    churn_rate.plot(kind='pie', autopct='%1.1f%%', startangle=90, colors=sns.color_palette('Set2'))
    plt.title('Churn Rate Based on Renewal Status')
    plt.ylabel('')
    plt.show()

# 3. Correlation Heatmap (excluding irrelevant columns)
numeric_cols = df.select_dtypes(include=[np.number]).drop(['User ID'], axis=1, errors='ignore')
numeric_cols = numeric_cols.loc[:, (numeric_cols != numeric_cols.iloc[0]).any()]  # Remove constant columns

plt.figure(figsize=(10, 8))
sns.heatmap(numeric_cols.corr(), annot=True, cmap='coolwarm', fmt='.2f')
plt.title('Correlation Heatmap')
plt.show()

# 4. Lifetime Value (LTV) Estimation (fixing LTV calculation)
if 'Subscription Plan' in df.columns and 'Engagement Metrics' in df.columns:
    df['Engagement Metrics'] = df['Engagement Metrics'].fillna(0)
    df['LTV'] = df['Engagement Metrics'] * df['Subscription Plan'].apply(lambda x: 120 if x == 'Annual' else 10)

    # Filter out LTV values equal to zero
    ltv_data = df[df['LTV'] > 0]

    if not ltv_data.empty:
        plt.figure(figsize=(10, 6))
        ltv_data.groupby('Subscription Plan')['LTV'].mean().plot(kind='bar')
        plt.title('Estimated Lifetime Value by Subscription Plan')
        plt.xlabel('Subscription Plan')
        plt.ylabel('Estimated LTV')
        plt.show()
    else:
        print("No valid LTV data available to plot.")

# 5. Trend Analysis of Engagement Over Time
if 'Date Added' in df.columns:
    df['Month Added'] = df['Date Added'].dt.to_period('M')
    trend_data = df.groupby('Month Added')['Engagement Metrics'].mean()
    trend_data = trend_data[trend_data > 0]  # Filter out zero trends

    if not trend_data.empty:
        plt.figure(figsize=(14, 6))
        trend_data.plot()
        plt.title('Engagement Trend Over Time')
        plt.xlabel('Month')
        plt.ylabel('Average Engagement Metrics')
        plt.show()
    else:
        print("No engagement trend data available to plot.")

# Conclusion
print("Advanced data analysis completed successfully.")
